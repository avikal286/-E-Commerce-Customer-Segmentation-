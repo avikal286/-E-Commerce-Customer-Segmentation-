{
 "cells": [
  {
   "cell_type": "code",
   "execution_count": 59,
   "id": "18a59bbb",
   "metadata": {},
   "outputs": [],
   "source": [
    "import pandas as pd\n",
    "import matplotlib.pyplot as plt\n",
    "import seaborn as sns\n",
    "from sklearn.preprocessing import StandardScaler\n",
    "from sklearn.cluster import KMeans\n",
    "from sklearn.model_selection import train_test_split\n",
    "from sklearn.tree import DecisionTreeClassifier\n",
    "from sklearn.ensemble import RandomForestClassifier\n",
    "from sklearn.linear_model import LogisticRegression\n",
    "from sklearn.metrics import accuracy_score, roc_auc_score, confusion_matrix, precision_score, recall_score"
   ]
  },
  {
   "cell_type": "code",
   "execution_count": 74,
   "id": "30f3f993",
   "metadata": {},
   "outputs": [
    {
     "data": {
      "text/html": [
       "<div>\n",
       "<style scoped>\n",
       "    .dataframe tbody tr th:only-of-type {\n",
       "        vertical-align: middle;\n",
       "    }\n",
       "\n",
       "    .dataframe tbody tr th {\n",
       "        vertical-align: top;\n",
       "    }\n",
       "\n",
       "    .dataframe thead th {\n",
       "        text-align: right;\n",
       "    }\n",
       "</style>\n",
       "<table border=\"1\" class=\"dataframe\">\n",
       "  <thead>\n",
       "    <tr style=\"text-align: right;\">\n",
       "      <th></th>\n",
       "      <th>InvoiceNo</th>\n",
       "      <th>StockCode</th>\n",
       "      <th>Description</th>\n",
       "      <th>Quantity</th>\n",
       "      <th>InvoiceDate</th>\n",
       "      <th>UnitPrice</th>\n",
       "      <th>CustomerID</th>\n",
       "      <th>Country</th>\n",
       "    </tr>\n",
       "  </thead>\n",
       "  <tbody>\n",
       "    <tr>\n",
       "      <th>0</th>\n",
       "      <td>536365</td>\n",
       "      <td>85123A</td>\n",
       "      <td>WHITE HANGING HEART T-LIGHT HOLDER</td>\n",
       "      <td>6</td>\n",
       "      <td>12/1/2010 8:26</td>\n",
       "      <td>2.55</td>\n",
       "      <td>17850.0</td>\n",
       "      <td>United Kingdom</td>\n",
       "    </tr>\n",
       "    <tr>\n",
       "      <th>1</th>\n",
       "      <td>536365</td>\n",
       "      <td>71053</td>\n",
       "      <td>WHITE METAL LANTERN</td>\n",
       "      <td>6</td>\n",
       "      <td>12/1/2010 8:26</td>\n",
       "      <td>3.39</td>\n",
       "      <td>17850.0</td>\n",
       "      <td>United Kingdom</td>\n",
       "    </tr>\n",
       "    <tr>\n",
       "      <th>2</th>\n",
       "      <td>536365</td>\n",
       "      <td>84406B</td>\n",
       "      <td>CREAM CUPID HEARTS COAT HANGER</td>\n",
       "      <td>8</td>\n",
       "      <td>12/1/2010 8:26</td>\n",
       "      <td>2.75</td>\n",
       "      <td>17850.0</td>\n",
       "      <td>United Kingdom</td>\n",
       "    </tr>\n",
       "    <tr>\n",
       "      <th>3</th>\n",
       "      <td>536365</td>\n",
       "      <td>84029G</td>\n",
       "      <td>KNITTED UNION FLAG HOT WATER BOTTLE</td>\n",
       "      <td>6</td>\n",
       "      <td>12/1/2010 8:26</td>\n",
       "      <td>3.39</td>\n",
       "      <td>17850.0</td>\n",
       "      <td>United Kingdom</td>\n",
       "    </tr>\n",
       "    <tr>\n",
       "      <th>4</th>\n",
       "      <td>536365</td>\n",
       "      <td>84029E</td>\n",
       "      <td>RED WOOLLY HOTTIE WHITE HEART.</td>\n",
       "      <td>6</td>\n",
       "      <td>12/1/2010 8:26</td>\n",
       "      <td>3.39</td>\n",
       "      <td>17850.0</td>\n",
       "      <td>United Kingdom</td>\n",
       "    </tr>\n",
       "  </tbody>\n",
       "</table>\n",
       "</div>"
      ],
      "text/plain": [
       "  InvoiceNo StockCode                          Description  Quantity  \\\n",
       "0    536365    85123A   WHITE HANGING HEART T-LIGHT HOLDER         6   \n",
       "1    536365     71053                  WHITE METAL LANTERN         6   \n",
       "2    536365    84406B       CREAM CUPID HEARTS COAT HANGER         8   \n",
       "3    536365    84029G  KNITTED UNION FLAG HOT WATER BOTTLE         6   \n",
       "4    536365    84029E       RED WOOLLY HOTTIE WHITE HEART.         6   \n",
       "\n",
       "      InvoiceDate  UnitPrice  CustomerID         Country  \n",
       "0  12/1/2010 8:26       2.55     17850.0  United Kingdom  \n",
       "1  12/1/2010 8:26       3.39     17850.0  United Kingdom  \n",
       "2  12/1/2010 8:26       2.75     17850.0  United Kingdom  \n",
       "3  12/1/2010 8:26       3.39     17850.0  United Kingdom  \n",
       "4  12/1/2010 8:26       3.39     17850.0  United Kingdom  "
      ]
     },
     "execution_count": 74,
     "metadata": {},
     "output_type": "execute_result"
    }
   ],
   "source": [
    "df = pd.read_csv(\"C:/Users/shrey/OneDrive/Desktop/New folder (2)/data.csv\" ,nrows = 10000)\n",
    "df.head()"
   ]
  },
  {
   "cell_type": "code",
   "execution_count": 75,
   "id": "58469006",
   "metadata": {},
   "outputs": [],
   "source": [
    " #Data Cleaning \n",
    "df.dropna(subset=['CustomerID'], inplace=True)\n",
    "df['InvoiceDate'] = pd.to_datetime(df['InvoiceDate'])\n",
    "df = df[df['Quantity'] > 0]  # remove returns"
   ]
  },
  {
   "cell_type": "code",
   "execution_count": 76,
   "id": "8973fe42",
   "metadata": {},
   "outputs": [],
   "source": [
    "# Feature engineering\n",
    "df['TotalPrice'] = df['Quantity'] * df['UnitPrice']"
   ]
  },
  {
   "cell_type": "code",
   "execution_count": 77,
   "id": "3267062a",
   "metadata": {},
   "outputs": [],
   "source": [
    "# Aggregate per customer \n",
    "customer_df = df.groupby('CustomerID').agg({\n",
    "    'InvoiceNo': 'nunique',   # Frequency\n",
    "    'InvoiceDate': 'max',     # Last purchase date\n",
    "    'TotalPrice': 'sum'       # Monetary\n",
    "}).reset_index()\n"
   ]
  },
  {
   "cell_type": "code",
   "execution_count": 78,
   "id": "a32d06f4",
   "metadata": {},
   "outputs": [],
   "source": [
    "# Recency calculation\n",
    "last_date = df['InvoiceDate'].max()\n",
    "customer_df['Recency'] = (last_date - customer_df['InvoiceDate']).dt.days\n",
    "customer_df.rename(columns={'InvoiceNo': 'Frequency', 'TotalPrice': 'Monetary'}, inplace=True)\n",
    "customer_df.drop('InvoiceDate', axis=1, inplace=True)"
   ]
  },
  {
   "cell_type": "code",
   "execution_count": 79,
   "id": "0cb4390e",
   "metadata": {},
   "outputs": [
    {
     "data": {
      "image/png": "[encoded data removed]",
      "text/plain": [
       "<Figure size 640x480 with 1 Axes>"
      ]
     },
     "metadata": {},
     "output_type": "display_data"
    }
   ],
   "source": [
    "#Step 2: K-Means Segmentation\n",
    "scaler = StandardScaler()\n",
    "scaled_features = scaler.fit_transform(customer_df[['Recency', 'Frequency', 'Monetary']])\n",
    "\n",
    "# Elbow Method\n",
    "inertia = []\n",
    "for k in range(1, 10):\n",
    "    km = KMeans(n_clusters=k, random_state=42)\n",
    "    km.fit(scaled_features)\n",
    "    inertia.append(km.inertia_)\n",
    "\n",
    "plt.plot(range(1, 10), inertia, marker='o')\n",
    "plt.xlabel(\"K\")\n",
    "plt.ylabel(\"Inertia\")\n",
    "plt.title(\"Elbow Method\")\n",
    "plt.show()"
   ]
  },
  {
   "cell_type": "code",
   "execution_count": 80,
   "id": "88acc7d7",
   "metadata": {},
   "outputs": [],
   "source": [
    "kmeans = KMeans(n_clusters=4, random_state=42)\n",
    "customer_df['Cluster'] = kmeans.fit_predict(scaled_features)\n"
   ]
  },
  {
   "cell_type": "code",
   "execution_count": 81,
   "id": "058463e0",
   "metadata": {},
   "outputs": [],
   "source": [
    "# Step 3: Purchase Prediction \n",
    "# Create target: High spender\n",
    "threshold = customer_df['Monetary'].median()\n",
    "customer_df['HighSpender'] = (customer_df['Monetary'] > threshold).astype(int)\n",
    "\n",
    "X = customer_df[['Recency', 'Frequency', 'Monetary']]\n",
    "y = customer_df['HighSpender']\n",
    "\n",
    "X_train, X_test, y_train, y_test = train_test_split(X, y, test_size=0.2, random_state=42)\n",
    "\n",
    "models = {\n",
    "    \"Logistic Regression\": LogisticRegression(),\n",
    "    \"Decision Tree\": DecisionTreeClassifier(max_depth=5, random_state=42),\n",
    "    \"Random Forest\": RandomForestClassifier(n_estimators=100, max_depth=5, random_state=42)\n",
    "}"
   ]
  },
  {
   "cell_type": "code",
   "execution_count": 82,
   "id": "0bf038ad",
   "metadata": {},
   "outputs": [
    {
     "name": "stdout",
     "output_type": "stream",
     "text": [
      "\n",
      "Logistic Regression\n",
      "Accuracy: 0.9836065573770492\n",
      "ROC-AUC: 0.9838709677419355\n",
      "Precision: 0.967741935483871\n",
      "Recall: 1.0\n",
      "Confusion Matrix:\n",
      " [[30  1]\n",
      " [ 0 30]]\n",
      "\n",
      "Decision Tree\n",
      "Accuracy: 1.0\n",
      "ROC-AUC: 1.0\n",
      "Precision: 1.0\n",
      "Recall: 1.0\n",
      "Confusion Matrix:\n",
      " [[31  0]\n",
      " [ 0 30]]\n",
      "\n",
      "Random Forest\n",
      "Accuracy: 0.9836065573770492\n",
      "ROC-AUC: 0.9838709677419355\n",
      "Precision: 0.967741935483871\n",
      "Recall: 1.0\n",
      "Confusion Matrix:\n",
      " [[30  1]\n",
      " [ 0 30]]\n"
     ]
    }
   ],
   "source": [
    "\n",
    "for name, model in models.items():\n",
    "    model.fit(X_train, y_train)\n",
    "    preds = model.predict(X_test)\n",
    "    print(f\"\\n{name}\")\n",
    "    print(\"Accuracy:\", accuracy_score(y_test, preds))\n",
    "    print(\"ROC-AUC:\", roc_auc_score(y_test, preds))\n",
    "    print(\"Precision:\", precision_score(y_test, preds))\n",
    "    print(\"Recall:\", recall_score(y_test, preds))\n",
    "    print(\"Confusion Matrix:\\n\", confusion_matrix(y_test, preds))"
   ]
  },
  {
   "cell_type": "code",
   "execution_count": 83,
   "id": "fd572db3",
   "metadata": {},
   "outputs": [
    {
     "name": "stdout",
     "output_type": "stream",
     "text": [
      "\n",
      "Recommended Products:\n",
      "['PINK MARSHMALLOW SCARF KNITTING KIT', 'UNION JACK FLAG PASSPORT COVER ', 'LADS ONLY TISSUE BOX', 'EDWARDIAN PARASOL PINK', 'CREAM SLICE FLANNEL PINK SPOT ']\n"
     ]
    }
   ],
   "source": [
    "\n",
    "# Step 4: Product Recommendation \n",
    "from sklearn.metrics.pairwise import cosine_similarity\n",
    "\n",
    "product_matrix = df.pivot_table(index='CustomerID', columns='Description', values='Quantity', fill_value=0)\n",
    "similarity = cosine_similarity(product_matrix.T)  # Transpose for product-based\n",
    "\n",
    "def recommend_products(product_name, n=5):\n",
    "    if product_name not in product_matrix.columns:\n",
    "        return \"Product not found\"\n",
    "    idx = product_matrix.columns.get_loc(product_name)\n",
    "    sim_scores = list(enumerate(similarity[idx]))\n",
    "    sim_scores = sorted(sim_scores, key=lambda x: x[1], reverse=True)\n",
    "    top_products = [product_matrix.columns[i] for i, _ in sim_scores[1:n+1]]\n",
    "    return top_products\n",
    "\n",
    "print(\"\\nRecommended Products:\")\n",
    "print(recommend_products(\"WHITE HANGING HEART T-LIGHT HOLDER\"))"
   ]
  }
 ],
 "metadata": {
  "kernelspec": {
   "display_name": "Python 3",
   "language": "python",
   "name": "python3"
  },
  "language_info": {
   "codemirror_mode": {
    "name": "ipython",
    "version": 3
   },
   "file_extension": ".py",
   "mimetype": "text/x-python",
   "name": "python",
   "nbconvert_exporter": "python",
   "pygments_lexer": "ipython3",
   "version": "3.13.4"
  }
 },
 "nbformat": 4,
 "nbformat_minor": 5
}
